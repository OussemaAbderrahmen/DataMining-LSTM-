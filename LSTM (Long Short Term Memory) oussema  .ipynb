{
 "cells": [
  {
   "cell_type": "code",
   "execution_count": 18,
   "id": "cc1834ef",
   "metadata": {},
   "outputs": [
    {
     "name": "stderr",
     "output_type": "stream",
     "text": [
      "[nltk_data] Downloading package punkt to\n",
      "[nltk_data]     C:\\Users\\ousse\\AppData\\Roaming\\nltk_data...\n",
      "[nltk_data]   Package punkt is already up-to-date!\n"
     ]
    }
   ],
   "source": [
    "import pandas as pd\n",
    "import numpy as np\n",
    "import re\n",
    "from keras.preprocessing.text import Tokenizer\n",
    "from keras.preprocessing.sequence import pad_sequences\n",
    "from tensorflow.keras.utils import to_categorical\n",
    "from keras.models import load_model\n",
    "import urllib.request\n",
    "import zipfile\n",
    "import os\n",
    "from keras.models import Sequential\n",
    "from keras.layers import Embedding,Bidirectional,LSTM,GRU,Dense\n",
    "import nltk\n",
    "from nltk.tokenize import word_tokenize\n",
    "import warnings\n",
    "import tensorflow as tf\n",
    "import matplotlib\n",
    "import matplotlib.pyplot as plt\n",
    "nltk.download('punkt')\n",
    "warnings.filterwarnings('ignore')\n",
    "#higher training accuracy compared to other learning models like SVM, Random Forrest, Naive Bayes et cetera."
   ]
  },
  {
   "cell_type": "code",
   "execution_count": 2,
   "id": "8a36e3b8",
   "metadata": {},
   "outputs": [],
   "source": [
    "#extract the sentences and their respective emotion \n",
    "#we use the below code to place them into the training and testing data-frames.\n",
    "f=open('train.txt','r')\n",
    "x_train=[]\n",
    "y_train=[]\n",
    "for i in f:\n",
    "    l=i.split(';')\n",
    "    y_train.append(l[1].strip())\n",
    "    x_train.append(l[0])\n",
    "f=open('test.txt','r')\n",
    "x_test=[]\n",
    "y_test=[]\n",
    "for i in f:\n",
    "    l=i.split(';')\n",
    "    y_test.append(l[1].strip())\n",
    "    x_test.append(l[0])\n",
    "f=open('val.txt','r')\n",
    "for i in f:\n",
    "    l=i.split(';')\n",
    "    y_test.append(l[1].strip())\n",
    "    x_test.append(l[0])\n",
    "data_train=pd.DataFrame({'Text':x_train,'Emotion':y_train})\n",
    "data_test=pd.DataFrame({'Text':x_test,'Emotion':y_test})\n",
    "data=data_train.append(data_test,ignore_index=True)"
   ]
  },
  {
   "cell_type": "code",
   "execution_count": 3,
   "id": "d21d107f",
   "metadata": {},
   "outputs": [],
   "source": [
    "# remove all the prepositions, articles, punctuation marks, stop words, leaving only the important words in the sentences\n",
    "# bch tnajem tjini hight accurency\n",
    "def clean_text(data):\n",
    "    data=re.sub(r\"(#[\\d\\w\\.]+)\", '', data)\n",
    "    data=re.sub(r\"(@[\\d\\w\\.]+)\", '', data)\n",
    "    data=word_tokenize(data)\n",
    "    return data\n",
    "texts=[' '.join(clean_text(text)) for text in data.Text]\n",
    "texts_train=[' '.join(clean_text(text)) for text in x_train]\n",
    "texts_test=[' '.join(clean_text(text)) for text in x_test]"
   ]
  },
  {
   "cell_type": "code",
   "execution_count": 4,
   "id": "1d8ac7b0",
   "metadata": {},
   "outputs": [],
   "source": [
    "# Tokenization is an important process in NLP (Natural Language Processing) analyses.\n",
    "# It tokenizes each sentence, extracts each unique word and creates a dictionary where each unique word is assigned an index.\n",
    "tokenizer=Tokenizer()\n",
    "tokenizer.fit_on_texts(texts)\n",
    "sequence_train=tokenizer.texts_to_sequences(texts_train)\n",
    "sequence_test=tokenizer.texts_to_sequences(texts_test)\n",
    "index_of_words=tokenizer.word_index\n",
    "vocab_size=len(index_of_words)+1"
   ]
  },
  {
   "cell_type": "code",
   "execution_count": 5,
   "id": "ad4ddc65",
   "metadata": {},
   "outputs": [],
   "source": [
    "# each emotion is assigned a categorical value (0–5).\n",
    "# It is for this reason the ‘encoding’ dictionary and ‘to_categorical’ function are used\n",
    "# lezemna fel train el max lengh howa bidou kima e sequence bch ma tsirech erreur\n",
    "# nbr de classe teena howa 6 = lel sentiment teena\n",
    "num_classes=6\n",
    "embed_num_dims=300\n",
    "max_seq_len=500\n",
    "class_names=['anger','sadness','fear','joy','surprise','love']\n",
    "X_train_pad=pad_sequences(sequence_train,maxlen=max_seq_len)\n",
    "X_test_pad=pad_sequences(sequence_test,maxlen=max_seq_len)\n",
    "encoding={'anger':0,'sadness':1,'fear':2,'joy':3,'surprise':4,'love':5}\n",
    "y_train=[encoding[x] for x in data_train.Emotion]\n",
    "y_test=[encoding[x] for x in data_test.Emotion]\n",
    "y_train=to_categorical(y_train)\n",
    "y_test=to_categorical(y_test)"
   ]
  },
  {
   "cell_type": "code",
   "execution_count": 6,
   "id": "24f0f5e2",
   "metadata": {},
   "outputs": [],
   "source": [
    "#pour la creation de ce modéle staamalt une data de mot men wikpedia = 1 million de mots\n",
    "# fama barcha kelmet najmou nestaamlohem yetsamew trained word vectors \n",
    "#w ki nestaamlou les trained word vector nkhaliw l model mteena yetrena khir b barcha w nhassnou fel occurency mté3na \n",
    "def create_embedding_matrix(filepath,word_index,embedding_dim):\n",
    "    vocab_size=len(word_index)+1\n",
    "    embedding_matrix=np.zeros((vocab_size,embedding_dim))\n",
    "    with open(filepath, encoding=\"utf8\") as f:\n",
    "        for line in f:\n",
    "            word,*vector=line.split()\n",
    "            if word in word_index:\n",
    "                idx=word_index[word]\n",
    "                embedding_matrix[idx] = np.array(vector,dtype=np.float32)[:embedding_dim]\n",
    "    return embedding_matrix\n",
    "fname='wiki-news-300d-1M.vec'\n",
    "embedd_matrix=create_embedding_matrix(fname,index_of_words,embed_num_dims)"
   ]
  },
  {
   "cell_type": "code",
   "execution_count": 7,
   "id": "d86a5e81",
   "metadata": {},
   "outputs": [
    {
     "name": "stdout",
     "output_type": "stream",
     "text": [
      "Model: \"sequential\"\n",
      "_________________________________________________________________\n",
      " Layer (type)                Output Shape              Param #   \n",
      "=================================================================\n",
      " embedding (Embedding)       (None, 500, 300)          5128500   \n",
      "                                                                 \n",
      " bidirectional (Bidirectiona  (None, 256)              330240    \n",
      " l)                                                              \n",
      "                                                                 \n",
      " dense (Dense)               (None, 6)                 1542      \n",
      "                                                                 \n",
      "=================================================================\n",
      "Total params: 5,460,282\n",
      "Trainable params: 331,782\n",
      "Non-trainable params: 5,128,500\n",
      "_________________________________________________________________\n"
     ]
    }
   ],
   "source": [
    "# taw aamalt creation mtaa architecture bch nreniw beha el model \n",
    "# donc naamlou embedding layer eli howa i khalina nbadlou des entiers positive l dense vector\n",
    "# w zedna el bidirectional layer zeda eli i khalik tconnecti deux layer b baadhhom\n",
    "# w i najem yakra mel future w el past \n",
    "# (the output layer can get information from past (backwards) and future (forward) states simultaneously.)\n",
    "# Bidirectional recurrent neural networks (BRNN) \n",
    "# w estaamalna zeda el Dense Layer elli howa  \n",
    "# The dense layer is connected deeply, w yekbel de input men aand les neurones lkol men aand elli kablou\n",
    "embedd_layer=Embedding(vocab_size,embed_num_dims,input_length=max_seq_len,weights=[embedd_matrix],trainable=False)\n",
    "gru_output_size=128\n",
    "bidirectional=True\n",
    "model=Sequential()\n",
    "model.add(embedd_layer)\n",
    "model.add(Bidirectional(GRU(units=gru_output_size,dropout=0.2,recurrent_dropout=0.2)))\n",
    "model.add(Dense(num_classes, activation='softmax'))\n",
    "# Adam’s optimizer is used as the optimizer and loss is calculated using ‘categorical_crossentropy’.\n",
    "model.compile(loss='categorical_crossentropy',optimizer='adam',metrics=['accuracy'])\n",
    "model.summary()"
   ]
  },
  {
   "cell_type": "code",
   "execution_count": null,
   "id": "1eeda112",
   "metadata": {},
   "outputs": [],
   "source": []
  },
  {
   "cell_type": "code",
   "execution_count": 8,
   "id": "a502a4be",
   "metadata": {},
   "outputs": [
    {
     "name": "stdout",
     "output_type": "stream",
     "text": [
      "Epoch 1/5\n",
      "125/125 [==============================] - 3184s 26s/step - loss: 1.3942 - accuracy: 0.4755 - val_loss: 1.1140 - val_accuracy: 0.5957\n",
      "Epoch 2/5\n",
      "125/125 [==============================] - 11502s 93s/step - loss: 0.8780 - accuracy: 0.7001 - val_loss: 0.6491 - val_accuracy: 0.7785\n",
      "Epoch 3/5\n",
      "125/125 [==============================] - 3776s 30s/step - loss: 0.5211 - accuracy: 0.8219 - val_loss: 0.3579 - val_accuracy: 0.8773\n",
      "Epoch 4/5\n",
      "125/125 [==============================] - 4827s 39s/step - loss: 0.3285 - accuracy: 0.8834 - val_loss: 0.2428 - val_accuracy: 0.9112\n",
      "Epoch 5/5\n",
      "125/125 [==============================] - 6127s 49s/step - loss: 0.2527 - accuracy: 0.9088 - val_loss: 0.2043 - val_accuracy: 0.9222\n"
     ]
    }
   ],
   "source": [
    "# el batch howa nbr d'echantillon traiter kal el mis a jours mtaa el model \n",
    "# epochs max nhottou 8 bch ma i sirich over fitting \n",
    "# batch_size=128\n",
    "# epochs=5\n",
    "# hist=model.fit(X_train_pad,y_train,batch_size=batch_size,epochs=epochs,validation_data=(X_test_pad,y_test))"
   ]
  },
  {
   "cell_type": "code",
   "execution_count": 22,
   "id": "a295c20a",
   "metadata": {},
   "outputs": [
    {
     "name": "stdout",
     "output_type": "stream",
     "text": [
      "Message:['I am happy.']\n",
      "Emotion: joy\n"
     ]
    }
   ],
   "source": [
    "# bech najmou njibou el emotion shiha lezemna nraj3oha kima kenet khater badelneha mel lowel \n",
    "message=['I am happy.']\n",
    "seq=tokenizer.texts_to_sequences(message)\n",
    "padded=pad_sequences(seq,maxlen=max_seq_len)\n",
    "pred=model.predict(padded)\n",
    "print('Message:'+str(message))\n",
    "print('Emotion:',class_names[np.argmax(pred)])"
   ]
  },
  {
   "cell_type": "code",
   "execution_count": 23,
   "id": "10a90e10",
   "metadata": {},
   "outputs": [
    {
     "name": "stdout",
     "output_type": "stream",
     "text": [
      "Message:['I am so emotional.']\n",
      "Emotion: sadness\n"
     ]
    }
   ],
   "source": [
    "message=['I am so emotional.']\n",
    "seq=tokenizer.texts_to_sequences(message)\n",
    "padded=pad_sequences(seq,maxlen=max_seq_len)\n",
    "pred=model.predict(padded)\n",
    "print('Message:'+str(message))\n",
    "print('Emotion:',class_names[np.argmax(pred)])"
   ]
  },
  {
   "cell_type": "code",
   "execution_count": 11,
   "id": "acdde370",
   "metadata": {},
   "outputs": [
    {
     "name": "stdout",
     "output_type": "stream",
     "text": [
      "Message:['I not rich but i live like a millionnaire.']\n",
      "Emotion: joy\n"
     ]
    }
   ],
   "source": [
    "message=['I not rich but i live like a millionnaire.']\n",
    "seq=tokenizer.texts_to_sequences(message)\n",
    "padded=pad_sequences(seq,maxlen=max_seq_len)\n",
    "pred=model.predict(padded)\n",
    "print('Message:'+str(message))\n",
    "print('Emotion:',class_names[np.argmax(pred)])"
   ]
  },
  {
   "cell_type": "code",
   "execution_count": 12,
   "id": "0017d38f",
   "metadata": {},
   "outputs": [
    {
     "name": "stdout",
     "output_type": "stream",
     "text": [
      "Message:['really ! he did that ?.']\n",
      "Emotion: anger\n"
     ]
    }
   ],
   "source": [
    "message=['really ! he did that ?.']\n",
    "seq=tokenizer.texts_to_sequences(message)\n",
    "padded=pad_sequences(seq,maxlen=max_seq_len)\n",
    "pred=model.predict(padded)\n",
    "print('Message:'+str(message))\n",
    "print('Emotion:',class_names[np.argmax(pred)])"
   ]
  },
  {
   "cell_type": "code",
   "execution_count": 13,
   "id": "ba64f782",
   "metadata": {},
   "outputs": [
    {
     "name": "stdout",
     "output_type": "stream",
     "text": [
      "Message:['im shocked.']\n",
      "Emotion: surprise\n"
     ]
    }
   ],
   "source": [
    "message=['im shocked.']\n",
    "seq=tokenizer.texts_to_sequences(message)\n",
    "padded=pad_sequences(seq,maxlen=max_seq_len)\n",
    "pred=model.predict(padded)\n",
    "print('Message:'+str(message))\n",
    "print('Emotion:',class_names[np.argmax(pred)])"
   ]
  },
  {
   "cell_type": "code",
   "execution_count": 14,
   "id": "959c1ea8",
   "metadata": {},
   "outputs": [
    {
     "name": "stdout",
     "output_type": "stream",
     "text": [
      "Message:['i cant beleave it im so glad']\n",
      "Emotion: joy\n"
     ]
    }
   ],
   "source": [
    "message=['i cant beleave it im so glad']\n",
    "seq=tokenizer.texts_to_sequences(message)\n",
    "padded=pad_sequences(seq,maxlen=max_seq_len)\n",
    "pred=model.predict(padded)\n",
    "print('Message:'+str(message))\n",
    "print('Emotion:',class_names[np.argmax(pred)])"
   ]
  },
  {
   "cell_type": "code",
   "execution_count": null,
   "id": "4ac4f198",
   "metadata": {},
   "outputs": [],
   "source": []
  },
  {
   "cell_type": "code",
   "execution_count": null,
   "id": "50622096",
   "metadata": {},
   "outputs": [],
   "source": []
  }
 ],
 "metadata": {
  "kernelspec": {
   "display_name": "Python 3 (ipykernel)",
   "language": "python",
   "name": "python3"
  },
  "language_info": {
   "codemirror_mode": {
    "name": "ipython",
    "version": 3
   },
   "file_extension": ".py",
   "mimetype": "text/x-python",
   "name": "python",
   "nbconvert_exporter": "python",
   "pygments_lexer": "ipython3",
   "version": "3.9.6"
  }
 },
 "nbformat": 4,
 "nbformat_minor": 5
}
